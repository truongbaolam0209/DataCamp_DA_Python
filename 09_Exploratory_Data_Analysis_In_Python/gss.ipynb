{
 "cells": [
  {
   "cell_type": "code",
   "execution_count": 91,
   "id": "4b923c4c",
   "metadata": {},
   "outputs": [],
   "source": [
    "import pandas as pd\n",
    "import numpy as np\n",
    "import matplotlib.pyplot as plt\n",
    "from empiricaldist import Pmf"
   ]
  },
  {
   "cell_type": "code",
   "execution_count": 92,
   "id": "c3d8f37d",
   "metadata": {},
   "outputs": [],
   "source": [
    "gss = pd.read_hdf(r'C:\\000_TBL\\001 DATA ANALYSIS\\DATACAMP\\PYTHON\\ProjectFiles\\12_Exploratory_Data_Analysis_In_Python\\Datasets\\gss.hdf5', 'gss')"
   ]
  },
  {
   "cell_type": "code",
   "execution_count": 93,
   "id": "d402d349",
   "metadata": {},
   "outputs": [
    {
     "data": {
      "text/html": [
       "<div>\n",
       "<style scoped>\n",
       "    .dataframe tbody tr th:only-of-type {\n",
       "        vertical-align: middle;\n",
       "    }\n",
       "\n",
       "    .dataframe tbody tr th {\n",
       "        vertical-align: top;\n",
       "    }\n",
       "\n",
       "    .dataframe thead th {\n",
       "        text-align: right;\n",
       "    }\n",
       "</style>\n",
       "<table border=\"1\" class=\"dataframe\">\n",
       "  <thead>\n",
       "    <tr style=\"text-align: right;\">\n",
       "      <th></th>\n",
       "      <th>year</th>\n",
       "      <th>age</th>\n",
       "      <th>cohort</th>\n",
       "      <th>sex</th>\n",
       "      <th>race</th>\n",
       "      <th>educ</th>\n",
       "      <th>realinc</th>\n",
       "      <th>gunlaw</th>\n",
       "      <th>grass</th>\n",
       "      <th>wtssall</th>\n",
       "    </tr>\n",
       "  </thead>\n",
       "  <tbody>\n",
       "    <tr>\n",
       "      <th>0</th>\n",
       "      <td>1972</td>\n",
       "      <td>26.0</td>\n",
       "      <td>1946.0</td>\n",
       "      <td>1</td>\n",
       "      <td>1</td>\n",
       "      <td>18.0</td>\n",
       "      <td>13537.0</td>\n",
       "      <td>2.0</td>\n",
       "      <td>NaN</td>\n",
       "      <td>0.889300</td>\n",
       "    </tr>\n",
       "    <tr>\n",
       "      <th>1</th>\n",
       "      <td>1972</td>\n",
       "      <td>38.0</td>\n",
       "      <td>1934.0</td>\n",
       "      <td>2</td>\n",
       "      <td>1</td>\n",
       "      <td>12.0</td>\n",
       "      <td>18951.0</td>\n",
       "      <td>1.0</td>\n",
       "      <td>NaN</td>\n",
       "      <td>0.444600</td>\n",
       "    </tr>\n",
       "    <tr>\n",
       "      <th>2</th>\n",
       "      <td>1972</td>\n",
       "      <td>57.0</td>\n",
       "      <td>1915.0</td>\n",
       "      <td>1</td>\n",
       "      <td>1</td>\n",
       "      <td>12.0</td>\n",
       "      <td>30458.0</td>\n",
       "      <td>1.0</td>\n",
       "      <td>NaN</td>\n",
       "      <td>1.333900</td>\n",
       "    </tr>\n",
       "    <tr>\n",
       "      <th>3</th>\n",
       "      <td>1972</td>\n",
       "      <td>61.0</td>\n",
       "      <td>1911.0</td>\n",
       "      <td>2</td>\n",
       "      <td>1</td>\n",
       "      <td>14.0</td>\n",
       "      <td>37226.0</td>\n",
       "      <td>1.0</td>\n",
       "      <td>NaN</td>\n",
       "      <td>0.889300</td>\n",
       "    </tr>\n",
       "    <tr>\n",
       "      <th>4</th>\n",
       "      <td>1972</td>\n",
       "      <td>59.0</td>\n",
       "      <td>1913.0</td>\n",
       "      <td>1</td>\n",
       "      <td>1</td>\n",
       "      <td>12.0</td>\n",
       "      <td>30458.0</td>\n",
       "      <td>2.0</td>\n",
       "      <td>NaN</td>\n",
       "      <td>0.889300</td>\n",
       "    </tr>\n",
       "    <tr>\n",
       "      <th>...</th>\n",
       "      <td>...</td>\n",
       "      <td>...</td>\n",
       "      <td>...</td>\n",
       "      <td>...</td>\n",
       "      <td>...</td>\n",
       "      <td>...</td>\n",
       "      <td>...</td>\n",
       "      <td>...</td>\n",
       "      <td>...</td>\n",
       "      <td>...</td>\n",
       "    </tr>\n",
       "    <tr>\n",
       "      <th>62461</th>\n",
       "      <td>2016</td>\n",
       "      <td>32.0</td>\n",
       "      <td>1984.0</td>\n",
       "      <td>1</td>\n",
       "      <td>1</td>\n",
       "      <td>13.0</td>\n",
       "      <td>74880.0</td>\n",
       "      <td>1.0</td>\n",
       "      <td>NaN</td>\n",
       "      <td>0.956994</td>\n",
       "    </tr>\n",
       "    <tr>\n",
       "      <th>62462</th>\n",
       "      <td>2016</td>\n",
       "      <td>61.0</td>\n",
       "      <td>1955.0</td>\n",
       "      <td>2</td>\n",
       "      <td>1</td>\n",
       "      <td>16.0</td>\n",
       "      <td>65520.0</td>\n",
       "      <td>NaN</td>\n",
       "      <td>1.0</td>\n",
       "      <td>0.956994</td>\n",
       "    </tr>\n",
       "    <tr>\n",
       "      <th>62463</th>\n",
       "      <td>2016</td>\n",
       "      <td>67.0</td>\n",
       "      <td>1949.0</td>\n",
       "      <td>2</td>\n",
       "      <td>1</td>\n",
       "      <td>13.0</td>\n",
       "      <td>NaN</td>\n",
       "      <td>NaN</td>\n",
       "      <td>2.0</td>\n",
       "      <td>1.564363</td>\n",
       "    </tr>\n",
       "    <tr>\n",
       "      <th>62464</th>\n",
       "      <td>2016</td>\n",
       "      <td>57.0</td>\n",
       "      <td>1959.0</td>\n",
       "      <td>2</td>\n",
       "      <td>1</td>\n",
       "      <td>12.0</td>\n",
       "      <td>9945.0</td>\n",
       "      <td>2.0</td>\n",
       "      <td>NaN</td>\n",
       "      <td>0.956994</td>\n",
       "    </tr>\n",
       "    <tr>\n",
       "      <th>62465</th>\n",
       "      <td>2016</td>\n",
       "      <td>56.0</td>\n",
       "      <td>1960.0</td>\n",
       "      <td>2</td>\n",
       "      <td>1</td>\n",
       "      <td>12.0</td>\n",
       "      <td>38610.0</td>\n",
       "      <td>1.0</td>\n",
       "      <td>NaN</td>\n",
       "      <td>0.478497</td>\n",
       "    </tr>\n",
       "  </tbody>\n",
       "</table>\n",
       "<p>62466 rows × 10 columns</p>\n",
       "</div>"
      ],
      "text/plain": [
       "       year   age  cohort  sex  race  educ  realinc  gunlaw  grass   wtssall\n",
       "0      1972  26.0  1946.0    1     1  18.0  13537.0     2.0    NaN  0.889300\n",
       "1      1972  38.0  1934.0    2     1  12.0  18951.0     1.0    NaN  0.444600\n",
       "2      1972  57.0  1915.0    1     1  12.0  30458.0     1.0    NaN  1.333900\n",
       "3      1972  61.0  1911.0    2     1  14.0  37226.0     1.0    NaN  0.889300\n",
       "4      1972  59.0  1913.0    1     1  12.0  30458.0     2.0    NaN  0.889300\n",
       "...     ...   ...     ...  ...   ...   ...      ...     ...    ...       ...\n",
       "62461  2016  32.0  1984.0    1     1  13.0  74880.0     1.0    NaN  0.956994\n",
       "62462  2016  61.0  1955.0    2     1  16.0  65520.0     NaN    1.0  0.956994\n",
       "62463  2016  67.0  1949.0    2     1  13.0      NaN     NaN    2.0  1.564363\n",
       "62464  2016  57.0  1959.0    2     1  12.0   9945.0     2.0    NaN  0.956994\n",
       "62465  2016  56.0  1960.0    2     1  12.0  38610.0     1.0    NaN  0.478497\n",
       "\n",
       "[62466 rows x 10 columns]"
      ]
     },
     "execution_count": 93,
     "metadata": {},
     "output_type": "execute_result"
    }
   ],
   "source": [
    "gss"
   ]
  },
  {
   "cell_type": "code",
   "execution_count": 94,
   "id": "ac697c73",
   "metadata": {},
   "outputs": [],
   "source": [
    "educ = gss['educ']"
   ]
  },
  {
   "cell_type": "code",
   "execution_count": 95,
   "id": "30a1515d",
   "metadata": {},
   "outputs": [
    {
     "data": {
      "text/plain": [
       "(array([  182.,   397.,   669.,  1702.,  4384.,  6683., 24550.,  9816.,\n",
       "         9744.,  4177.]),\n",
       " array([ 0.,  2.,  4.,  6.,  8., 10., 12., 14., 16., 18., 20.]),\n",
       " <BarContainer object of 10 artists>)"
      ]
     },
     "execution_count": 95,
     "metadata": {},
     "output_type": "execute_result"
    },
    {
     "data": {
      "image/png": "[encoded data removed]",
      "text/plain": [
       "<Figure size 432x288 with 1 Axes>"
      ]
     },
     "metadata": {
      "needs_background": "light"
     },
     "output_type": "display_data"
    }
   ],
   "source": [
    "plt.hist(educ.dropna(), label='edu')"
   ]
  },
  {
   "cell_type": "code",
   "execution_count": 96,
   "id": "a0b706b6",
   "metadata": {},
   "outputs": [],
   "source": [
    "# https://allendowney.github.io/ElementsOfDataScience/08_distributions.html\n",
    "\n",
    "pmf_educ_pd = educ.value_counts().sort_index()\n",
    "\n",
    "pmf_educ = Pmf.from_seq(educ, normalize=False)"
   ]
  },
  {
   "cell_type": "code",
   "execution_count": 97,
   "id": "5e34b0e9",
   "metadata": {},
   "outputs": [
    {
     "data": {
      "text/plain": [
       "empiricaldist.empiricaldist.Pmf"
      ]
     },
     "execution_count": 97,
     "metadata": {},
     "output_type": "execute_result"
    }
   ],
   "source": [
    "type(pmf_educ)"
   ]
  },
  {
   "cell_type": "code",
   "execution_count": 98,
   "id": "70d383da",
   "metadata": {},
   "outputs": [
    {
     "data": {
      "text/plain": [
       "pandas.core.series.Series"
      ]
     },
     "execution_count": 98,
     "metadata": {},
     "output_type": "execute_result"
    }
   ],
   "source": [
    "type(pmf_educ_pd)"
   ]
  },
  {
   "cell_type": "code",
   "execution_count": 99,
   "id": "373b893d",
   "metadata": {},
   "outputs": [
    {
     "data": {
      "image/png": "[encoded data removed]",
      "text/plain": [
       "<Figure size 432x288 with 1 Axes>"
      ]
     },
     "metadata": {
      "needs_background": "light"
     },
     "output_type": "display_data"
    }
   ],
   "source": [
    "pmf_educ.bar()"
   ]
  },
  {
   "cell_type": "code",
   "execution_count": null,
   "id": "f25c0439",
   "metadata": {},
   "outputs": [],
   "source": []
  },
  {
   "cell_type": "code",
   "execution_count": null,
   "id": "dc16f765",
   "metadata": {},
   "outputs": [],
   "source": []
  }
 ],
 "metadata": {
  "kernelspec": {
   "display_name": "Python 3 (ipykernel)",
   "language": "python",
   "name": "python3"
  },
  "language_info": {
   "codemirror_mode": {
    "name": "ipython",
    "version": 3
   },
   "file_extension": ".py",
   "mimetype": "text/x-python",
   "name": "python",
   "nbconvert_exporter": "python",
   "pygments_lexer": "ipython3",
   "version": "3.9.12"
  }
 },
 "nbformat": 4,
 "nbformat_minor": 5
}
